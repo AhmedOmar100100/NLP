{
 "cells": [
  {
   "cell_type": "markdown",
   "id": "b8829fa2",
   "metadata": {},
   "source": [
    "### Identify nouns , verbs , adjectives , adverbs , preposition in verified reviews column"
   ]
  },
  {
   "cell_type": "code",
   "execution_count": 17,
   "id": "96c6eae8",
   "metadata": {
    "ExecuteTime": {
     "end_time": "2022-03-21T17:10:37.265103Z",
     "start_time": "2022-03-21T17:10:37.256111Z"
    }
   },
   "outputs": [],
   "source": [
    "from textblob import TextBlob\n",
    "text = \"I like orange\\nI Love PHP\"\n",
    "blob = TextBlob(text)"
   ]
  },
  {
   "cell_type": "code",
   "execution_count": 18,
   "id": "1117ab10",
   "metadata": {
    "ExecuteTime": {
     "end_time": "2022-03-21T17:10:37.345151Z",
     "start_time": "2022-03-21T17:10:37.324125Z"
    }
   },
   "outputs": [
    {
     "name": "stdout",
     "output_type": "stream",
     "text": [
      "I\n",
      "like\n",
      "orange\n",
      "I\n",
      "Love\n",
      "PHP\n"
     ]
    }
   ],
   "source": [
    "# loop and extract words in each sentence of sentences\n",
    "for sentence in blob.sentences:\n",
    "    for word in sentence.words:\n",
    "        print(word)"
   ]
  },
  {
   "cell_type": "code",
   "execution_count": 19,
   "id": "f030d984",
   "metadata": {
    "ExecuteTime": {
     "end_time": "2022-03-21T17:10:37.425105Z",
     "start_time": "2022-03-21T17:10:37.416110Z"
    }
   },
   "outputs": [
    {
     "name": "stdout",
     "output_type": "stream",
     "text": [
      "love php\n"
     ]
    }
   ],
   "source": [
    "#this isn’t terribly accurate\n",
    "for np in blob.noun_phrases:\n",
    "    print (np)"
   ]
  },
  {
   "cell_type": "code",
   "execution_count": 20,
   "id": "802f0b7c",
   "metadata": {
    "ExecuteTime": {
     "end_time": "2022-03-21T17:10:37.521051Z",
     "start_time": "2022-03-21T17:10:37.508058Z"
    },
    "scrolled": true
   },
   "outputs": [
    {
     "name": "stdout",
     "output_type": "stream",
     "text": [
      "I PRP\n",
      "like VBP\n",
      "orange NN\n",
      "I PRP\n",
      "Love VBP\n",
      "PHP NNP\n"
     ]
    }
   ],
   "source": [
    "#“Tagging” parts of speech (,)\n",
    "for word, pos in blob.tags:\n",
    "    print(word,pos)"
   ]
  },
  {
   "cell_type": "code",
   "execution_count": 21,
   "id": "38d623dd",
   "metadata": {
    "ExecuteTime": {
     "end_time": "2022-03-21T17:10:37.645979Z",
     "start_time": "2022-03-21T17:10:37.603005Z"
    }
   },
   "outputs": [],
   "source": [
    "import pandas as pd \n",
    "dataset = pd.read_csv(\"amazon_alexa.tsv\", delimiter=\"\\t\")"
   ]
  },
  {
   "cell_type": "code",
   "execution_count": 22,
   "id": "85dff555",
   "metadata": {
    "ExecuteTime": {
     "end_time": "2022-03-21T17:10:37.737551Z",
     "start_time": "2022-03-21T17:10:37.708965Z"
    }
   },
   "outputs": [
    {
     "data": {
      "text/html": [
       "<div>\n",
       "<style scoped>\n",
       "    .dataframe tbody tr th:only-of-type {\n",
       "        vertical-align: middle;\n",
       "    }\n",
       "\n",
       "    .dataframe tbody tr th {\n",
       "        vertical-align: top;\n",
       "    }\n",
       "\n",
       "    .dataframe thead th {\n",
       "        text-align: right;\n",
       "    }\n",
       "</style>\n",
       "<table border=\"1\" class=\"dataframe\">\n",
       "  <thead>\n",
       "    <tr style=\"text-align: right;\">\n",
       "      <th></th>\n",
       "      <th>rating</th>\n",
       "      <th>date</th>\n",
       "      <th>variation</th>\n",
       "      <th>verified_reviews</th>\n",
       "      <th>feedback</th>\n",
       "    </tr>\n",
       "  </thead>\n",
       "  <tbody>\n",
       "    <tr>\n",
       "      <th>0</th>\n",
       "      <td>5</td>\n",
       "      <td>31-Jul-18</td>\n",
       "      <td>Charcoal Fabric</td>\n",
       "      <td>Love my Echo!</td>\n",
       "      <td>1</td>\n",
       "    </tr>\n",
       "    <tr>\n",
       "      <th>1</th>\n",
       "      <td>5</td>\n",
       "      <td>31-Jul-18</td>\n",
       "      <td>Charcoal Fabric</td>\n",
       "      <td>Loved it!</td>\n",
       "      <td>1</td>\n",
       "    </tr>\n",
       "    <tr>\n",
       "      <th>2</th>\n",
       "      <td>4</td>\n",
       "      <td>31-Jul-18</td>\n",
       "      <td>Walnut Finish</td>\n",
       "      <td>Sometimes while playing a game, you can answer...</td>\n",
       "      <td>1</td>\n",
       "    </tr>\n",
       "    <tr>\n",
       "      <th>3</th>\n",
       "      <td>5</td>\n",
       "      <td>31-Jul-18</td>\n",
       "      <td>Charcoal Fabric</td>\n",
       "      <td>I have had a lot of fun with this thing. My 4 ...</td>\n",
       "      <td>1</td>\n",
       "    </tr>\n",
       "    <tr>\n",
       "      <th>4</th>\n",
       "      <td>5</td>\n",
       "      <td>31-Jul-18</td>\n",
       "      <td>Charcoal Fabric</td>\n",
       "      <td>Music</td>\n",
       "      <td>1</td>\n",
       "    </tr>\n",
       "  </tbody>\n",
       "</table>\n",
       "</div>"
      ],
      "text/plain": [
       "   rating       date         variation  \\\n",
       "0       5  31-Jul-18  Charcoal Fabric    \n",
       "1       5  31-Jul-18  Charcoal Fabric    \n",
       "2       4  31-Jul-18    Walnut Finish    \n",
       "3       5  31-Jul-18  Charcoal Fabric    \n",
       "4       5  31-Jul-18  Charcoal Fabric    \n",
       "\n",
       "                                    verified_reviews  feedback  \n",
       "0                                      Love my Echo!         1  \n",
       "1                                          Loved it!         1  \n",
       "2  Sometimes while playing a game, you can answer...         1  \n",
       "3  I have had a lot of fun with this thing. My 4 ...         1  \n",
       "4                                              Music         1  "
      ]
     },
     "execution_count": 22,
     "metadata": {},
     "output_type": "execute_result"
    }
   ],
   "source": [
    "dataset.head()"
   ]
  },
  {
   "cell_type": "code",
   "execution_count": 23,
   "id": "3d1a90fc",
   "metadata": {
    "ExecuteTime": {
     "end_time": "2022-03-21T17:10:37.820505Z",
     "start_time": "2022-03-21T17:10:37.793517Z"
    }
   },
   "outputs": [
    {
     "data": {
      "text/plain": [
       "0                                           Love my Echo!\n",
       "1                                               Loved it!\n",
       "2       Sometimes while playing a game, you can answer...\n",
       "3       I have had a lot of fun with this thing. My 4 ...\n",
       "4                                                   Music\n",
       "                              ...                        \n",
       "3145    Perfect for kids, adults and everyone in betwe...\n",
       "3146    Listening to music, searching locations, check...\n",
       "3147    I do love these things, i have them running my...\n",
       "3148    Only complaint I have is that the sound qualit...\n",
       "3149                                                 Good\n",
       "Name: verified_reviews, Length: 3150, dtype: object"
      ]
     },
     "execution_count": 23,
     "metadata": {},
     "output_type": "execute_result"
    }
   ],
   "source": [
    "dataset[\"verified_reviews\"]"
   ]
  },
  {
   "cell_type": "code",
   "execution_count": 24,
   "id": "95fd5f90",
   "metadata": {
    "ExecuteTime": {
     "end_time": "2022-03-21T17:10:40.421748Z",
     "start_time": "2022-03-21T17:10:40.401759Z"
    }
   },
   "outputs": [],
   "source": [
    "  def show_nouns(x, y=0):\n",
    "        blob = TextBlob(x)\n",
    "        li = []\n",
    "        my_final_list = []\n",
    "        for word,pos in blob.tags:\n",
    "            if pos == \"NN\":\n",
    "                li.append(word)\n",
    "#             else:\n",
    "# #                 li.append(None)\n",
    "#                 li.remove(None)\n",
    "\n",
    "\n",
    "      \n",
    "        return li\n",
    "        \n"
   ]
  },
  {
   "cell_type": "code",
   "execution_count": 25,
   "id": "a93db646",
   "metadata": {
    "ExecuteTime": {
     "end_time": "2022-03-21T17:10:41.519642Z",
     "start_time": "2022-03-21T17:10:41.511646Z"
    }
   },
   "outputs": [],
   "source": [
    " def show_verbs(x, y=0):\n",
    "        blob = TextBlob(x)\n",
    "        li = []\n",
    "        my_final_list = []\n",
    "        for word,pos in blob.tags:\n",
    "            if pos == \"VBP\":\n",
    "                li.append(word)\n",
    "            else:\n",
    "                li.append(None)\n",
    "                li.remove(None)\n",
    "\n",
    "\n",
    "      \n",
    "        return li"
   ]
  },
  {
   "cell_type": "code",
   "execution_count": 26,
   "id": "4461b83b",
   "metadata": {
    "ExecuteTime": {
     "end_time": "2022-03-21T17:10:42.292318Z",
     "start_time": "2022-03-21T17:10:42.279327Z"
    }
   },
   "outputs": [],
   "source": [
    " def show_adjectives(x, y=0):\n",
    "        blob = TextBlob(x)\n",
    "        li = []\n",
    "        my_final_list = []\n",
    "        for word,pos in blob.tags:\n",
    "            if pos == \"JJ\":\n",
    "                li.append(word)\n",
    "\n",
    "\n",
    "\n",
    "      \n",
    "        return li"
   ]
  },
  {
   "cell_type": "code",
   "execution_count": 39,
   "id": "20162bd5",
   "metadata": {
    "ExecuteTime": {
     "end_time": "2022-03-21T17:19:09.705542Z",
     "start_time": "2022-03-21T17:19:09.690551Z"
    }
   },
   "outputs": [],
   "source": [
    " def show_preposition(x, y=0):\n",
    "        blob = TextBlob(x)\n",
    "        li = []\n",
    "        my_final_list = []\n",
    "        for word,pos in blob.tags:\n",
    "            if pos == \"IN\":\n",
    "                li.append(word)\n",
    "       \n",
    "      \n",
    "        return li"
   ]
  },
  {
   "cell_type": "code",
   "execution_count": 43,
   "id": "b3179147",
   "metadata": {
    "ExecuteTime": {
     "end_time": "2022-03-21T17:24:06.515694Z",
     "start_time": "2022-03-21T17:24:06.507716Z"
    }
   },
   "outputs": [],
   "source": [
    " def show_adverbs(x, y=0):\n",
    "        blob = TextBlob(x)\n",
    "        li = []\n",
    "        my_final_list = []\n",
    "        for word,pos in blob.tags:\n",
    "            if pos == \"RB\" or pos == \"RBR\" or pos == \"RBS\":\n",
    "                li.append(word)\n",
    "       \n",
    "      \n",
    "        return li"
   ]
  },
  {
   "cell_type": "code",
   "execution_count": 35,
   "id": "7fa26235",
   "metadata": {
    "ExecuteTime": {
     "end_time": "2022-03-21T17:13:09.195195Z",
     "start_time": "2022-03-21T17:12:57.889902Z"
    }
   },
   "outputs": [],
   "source": [
    "dataset[\"nouns\"] = dataset[\"verified_reviews\"].apply(show_nouns)"
   ]
  },
  {
   "cell_type": "code",
   "execution_count": 36,
   "id": "62e6edee",
   "metadata": {
    "ExecuteTime": {
     "end_time": "2022-03-21T17:13:21.032962Z",
     "start_time": "2022-03-21T17:13:09.276092Z"
    }
   },
   "outputs": [],
   "source": [
    "dataset[\"verbs\"] = dataset[\"verified_reviews\"].apply(show_verbs)"
   ]
  },
  {
   "cell_type": "code",
   "execution_count": 37,
   "id": "640f0284",
   "metadata": {
    "ExecuteTime": {
     "end_time": "2022-03-21T17:13:32.526756Z",
     "start_time": "2022-03-21T17:13:21.114919Z"
    }
   },
   "outputs": [],
   "source": [
    "dataset[\"adjectives\"] = dataset[\"verified_reviews\"].apply(show_adjectives)"
   ]
  },
  {
   "cell_type": "code",
   "execution_count": 40,
   "id": "ac88e136",
   "metadata": {
    "ExecuteTime": {
     "end_time": "2022-03-21T17:20:14.035197Z",
     "start_time": "2022-03-21T17:20:00.534903Z"
    }
   },
   "outputs": [],
   "source": [
    "dataset[\"preposition\"] = dataset[\"verified_reviews\"].apply(show_preposition)"
   ]
  },
  {
   "cell_type": "code",
   "execution_count": 44,
   "id": "5ae0f9ca",
   "metadata": {
    "ExecuteTime": {
     "end_time": "2022-03-21T17:25:01.091402Z",
     "start_time": "2022-03-21T17:24:48.975258Z"
    }
   },
   "outputs": [],
   "source": [
    "dataset[\"adverbs\"] = dataset[\"verified_reviews\"].apply(show_adverbs)"
   ]
  },
  {
   "cell_type": "code",
   "execution_count": 45,
   "id": "cab534f4",
   "metadata": {
    "ExecuteTime": {
     "end_time": "2022-03-21T17:25:01.216338Z",
     "start_time": "2022-03-21T17:25:01.176300Z"
    }
   },
   "outputs": [
    {
     "data": {
      "text/html": [
       "<div>\n",
       "<style scoped>\n",
       "    .dataframe tbody tr th:only-of-type {\n",
       "        vertical-align: middle;\n",
       "    }\n",
       "\n",
       "    .dataframe tbody tr th {\n",
       "        vertical-align: top;\n",
       "    }\n",
       "\n",
       "    .dataframe thead th {\n",
       "        text-align: right;\n",
       "    }\n",
       "</style>\n",
       "<table border=\"1\" class=\"dataframe\">\n",
       "  <thead>\n",
       "    <tr style=\"text-align: right;\">\n",
       "      <th></th>\n",
       "      <th>rating</th>\n",
       "      <th>date</th>\n",
       "      <th>variation</th>\n",
       "      <th>verified_reviews</th>\n",
       "      <th>feedback</th>\n",
       "      <th>nouns</th>\n",
       "      <th>verbs</th>\n",
       "      <th>adjectives</th>\n",
       "      <th>preposition</th>\n",
       "      <th>adverbs</th>\n",
       "    </tr>\n",
       "  </thead>\n",
       "  <tbody>\n",
       "    <tr>\n",
       "      <th>0</th>\n",
       "      <td>5</td>\n",
       "      <td>31-Jul-18</td>\n",
       "      <td>Charcoal Fabric</td>\n",
       "      <td>Love my Echo!</td>\n",
       "      <td>1</td>\n",
       "      <td>[Echo]</td>\n",
       "      <td>[]</td>\n",
       "      <td>[]</td>\n",
       "      <td>[]</td>\n",
       "      <td>[]</td>\n",
       "    </tr>\n",
       "    <tr>\n",
       "      <th>1</th>\n",
       "      <td>5</td>\n",
       "      <td>31-Jul-18</td>\n",
       "      <td>Charcoal Fabric</td>\n",
       "      <td>Loved it!</td>\n",
       "      <td>1</td>\n",
       "      <td>[]</td>\n",
       "      <td>[]</td>\n",
       "      <td>[]</td>\n",
       "      <td>[]</td>\n",
       "      <td>[]</td>\n",
       "    </tr>\n",
       "    <tr>\n",
       "      <th>2</th>\n",
       "      <td>4</td>\n",
       "      <td>31-Jul-18</td>\n",
       "      <td>Walnut Finish</td>\n",
       "      <td>Sometimes while playing a game, you can answer...</td>\n",
       "      <td>1</td>\n",
       "      <td>[game, question, home]</td>\n",
       "      <td>[like]</td>\n",
       "      <td>[wrong, same, able]</td>\n",
       "      <td>[while, as, on, off, while, from]</td>\n",
       "      <td>[Sometimes, correctly, away]</td>\n",
       "    </tr>\n",
       "    <tr>\n",
       "      <th>3</th>\n",
       "      <td>5</td>\n",
       "      <td>31-Jul-18</td>\n",
       "      <td>Charcoal Fabric</td>\n",
       "      <td>I have had a lot of fun with this thing. My 4 ...</td>\n",
       "      <td>1</td>\n",
       "      <td>[lot, fun, thing, music]</td>\n",
       "      <td>[have, control]</td>\n",
       "      <td>[old]</td>\n",
       "      <td>[of, with, about, like]</td>\n",
       "      <td>[yr, nice, as, well]</td>\n",
       "    </tr>\n",
       "    <tr>\n",
       "      <th>4</th>\n",
       "      <td>5</td>\n",
       "      <td>31-Jul-18</td>\n",
       "      <td>Charcoal Fabric</td>\n",
       "      <td>Music</td>\n",
       "      <td>1</td>\n",
       "      <td>[]</td>\n",
       "      <td>[]</td>\n",
       "      <td>[Music]</td>\n",
       "      <td>[]</td>\n",
       "      <td>[]</td>\n",
       "    </tr>\n",
       "  </tbody>\n",
       "</table>\n",
       "</div>"
      ],
      "text/plain": [
       "   rating       date         variation  \\\n",
       "0       5  31-Jul-18  Charcoal Fabric    \n",
       "1       5  31-Jul-18  Charcoal Fabric    \n",
       "2       4  31-Jul-18    Walnut Finish    \n",
       "3       5  31-Jul-18  Charcoal Fabric    \n",
       "4       5  31-Jul-18  Charcoal Fabric    \n",
       "\n",
       "                                    verified_reviews  feedback  \\\n",
       "0                                      Love my Echo!         1   \n",
       "1                                          Loved it!         1   \n",
       "2  Sometimes while playing a game, you can answer...         1   \n",
       "3  I have had a lot of fun with this thing. My 4 ...         1   \n",
       "4                                              Music         1   \n",
       "\n",
       "                      nouns            verbs           adjectives  \\\n",
       "0                    [Echo]               []                   []   \n",
       "1                        []               []                   []   \n",
       "2    [game, question, home]           [like]  [wrong, same, able]   \n",
       "3  [lot, fun, thing, music]  [have, control]                [old]   \n",
       "4                        []               []              [Music]   \n",
       "\n",
       "                         preposition                       adverbs  \n",
       "0                                 []                            []  \n",
       "1                                 []                            []  \n",
       "2  [while, as, on, off, while, from]  [Sometimes, correctly, away]  \n",
       "3            [of, with, about, like]          [yr, nice, as, well]  \n",
       "4                                 []                            []  "
      ]
     },
     "execution_count": 45,
     "metadata": {},
     "output_type": "execute_result"
    }
   ],
   "source": [
    "dataset.head()"
   ]
  },
  {
   "cell_type": "code",
   "execution_count": null,
   "id": "51e0a6ea",
   "metadata": {},
   "outputs": [],
   "source": []
  }
 ],
 "metadata": {
  "kernelspec": {
   "display_name": "Python 3 (ipykernel)",
   "language": "python",
   "name": "python3"
  },
  "language_info": {
   "codemirror_mode": {
    "name": "ipython",
    "version": 3
   },
   "file_extension": ".py",
   "mimetype": "text/x-python",
   "name": "python",
   "nbconvert_exporter": "python",
   "pygments_lexer": "ipython3",
   "version": "3.10.0"
  },
  "toc": {
   "base_numbering": 1,
   "nav_menu": {},
   "number_sections": true,
   "sideBar": true,
   "skip_h1_title": false,
   "title_cell": "Table of Contents",
   "title_sidebar": "Contents",
   "toc_cell": false,
   "toc_position": {},
   "toc_section_display": true,
   "toc_window_display": false
  },
  "varInspector": {
   "cols": {
    "lenName": 16,
    "lenType": 16,
    "lenVar": 40
   },
   "kernels_config": {
    "python": {
     "delete_cmd_postfix": "",
     "delete_cmd_prefix": "del ",
     "library": "var_list.py",
     "varRefreshCmd": "print(var_dic_list())"
    },
    "r": {
     "delete_cmd_postfix": ") ",
     "delete_cmd_prefix": "rm(",
     "library": "var_list.r",
     "varRefreshCmd": "cat(var_dic_list()) "
    }
   },
   "types_to_exclude": [
    "module",
    "function",
    "builtin_function_or_method",
    "instance",
    "_Feature"
   ],
   "window_display": false
  }
 },
 "nbformat": 4,
 "nbformat_minor": 5
}
